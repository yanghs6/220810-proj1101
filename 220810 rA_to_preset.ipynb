{
 "cells": [
  {
   "cell_type": "markdown",
   "metadata": {},
   "source": [
    "## resultA_A타입에서 preset으로"
   ]
  },
  {
   "cell_type": "code",
   "execution_count": 57,
   "metadata": {},
   "outputs": [],
   "source": [
    "import json\n",
    "import os\n",
    "import tqdm"
   ]
  },
  {
   "cell_type": "code",
   "execution_count": 58,
   "metadata": {},
   "outputs": [],
   "source": [
    "PATH_DATA = \"data\"\n",
    "PATH_RESULT_A = \"resultA\"\n",
    "PATH_PRESET = \"preset\"\n",
    "PATH_TEST_KOR = os.path.join(PATH_RESULT_A, \"2022-08-10_21-38-46_한국어SNS_시사교육.json\")\n",
    "PATH_TEST_NORMAL = os.path.join(PATH_RESULT_A, \"주제별 일상대화_KAKAO_1000_01.json\")\n",
    "\n",
    "SOURCE_KOR = \"한국어SNS_시사교육\"\n",
    "\n",
    "json_resultA_kor = None\n",
    "json_preset_kor = None\n"
   ]
  },
  {
   "cell_type": "code",
   "execution_count": 59,
   "metadata": {},
   "outputs": [],
   "source": [
    "with open(PATH_TEST_KOR, encoding=\"utf-8\") as f:\n",
    "    json_resultA_kor = json.load(f)    "
   ]
  },
  {
   "cell_type": "code",
   "execution_count": 60,
   "metadata": {},
   "outputs": [
    {
     "name": "stdout",
     "output_type": "stream",
     "text": [
      "11247\n"
     ]
    }
   ],
   "source": [
    "print(len(json_resultA_kor[\"data\"]))"
   ]
  },
  {
   "cell_type": "code",
   "execution_count": 61,
   "metadata": {},
   "outputs": [
    {
     "name": "stderr",
     "output_type": "stream",
     "text": [
      "100%|██████████| 11247/11247 [00:00<00:00, 40785.40it/s]\n"
     ]
    }
   ],
   "source": [
    "json_preset = list()\n",
    "# json_preset_context = list()\n",
    "\n",
    "for json_dialogue in tqdm.tqdm(json_resultA_kor[\"data\"]):\n",
    "    ####################\n",
    "    # 2-2 body\n",
    "    # json_resultA_body = list()\n",
    "    json_preset_dialogue = dict()\n",
    "    json_preset_context = list()\n",
    "    \n",
    "    for json_each_utterance in json_dialogue[\"body\"]:\n",
    "        json_preset_utterance = {\n",
    "            \"speaker\"           : json_each_utterance[\"participantID\"],\n",
    "            \"speechText\"        : json_each_utterance[\"utterance\"],\n",
    "        }\n",
    "        json_preset_context.append(json_preset_utterance)\n",
    "\n",
    "    ####################\n",
    "    json_preset_dialogue[\"context\"] = json_preset_context\n",
    "    json_preset_dialogue[\"answers\"] = {\n",
    "        \"speaker\"                   : \"\",\n",
    "        \"speechText\"                : \"\",\n",
    "    }\n",
    "    \n",
    "    json_preset.append(json.dumps({\"col\":json.dumps(json_preset_dialogue, ensure_ascii=False)}, ensure_ascii=False))\n"
   ]
  },
  {
   "cell_type": "code",
   "execution_count": 62,
   "metadata": {},
   "outputs": [
    {
     "name": "stdout",
     "output_type": "stream",
     "text": [
      "2022-08-10_22-32-59\n"
     ]
    }
   ],
   "source": [
    "import time\n",
    "\n",
    "print(time.strftime(\"%Y-%m-%d_%H-%M-%S\"))\n",
    "\n",
    "if os.path.isdir(PATH_PRESET) == False:\n",
    "    os.mkdir(PATH_PRESET)\n",
    "\n",
    "with open(os.path.join(PATH_PRESET, f'{time.strftime(\"%Y-%m-%d_%H-%M-%S\")}_한국어SNS_시사교육.json'), \"w\", encoding=\"utf-8\") as f:\n",
    "    for dialogue in json_preset:\n",
    "        f.write(str(dialogue)+\"\\n\")\n"
   ]
  }
 ],
 "metadata": {
  "kernelspec": {
   "display_name": "Python 3.9.12 ('pydatavenv')",
   "language": "python",
   "name": "python3"
  },
  "language_info": {
   "codemirror_mode": {
    "name": "ipython",
    "version": 3
   },
   "file_extension": ".py",
   "mimetype": "text/x-python",
   "name": "python",
   "nbconvert_exporter": "python",
   "pygments_lexer": "ipython3",
   "version": "3.9.12"
  },
  "orig_nbformat": 4,
  "vscode": {
   "interpreter": {
    "hash": "c405757e3131ec5e9b9c92be93af2f3b58833d6aa22e88097adfd03b2877b376"
   }
  }
 },
 "nbformat": 4,
 "nbformat_minor": 2
}

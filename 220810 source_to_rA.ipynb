{
 "cells": [
  {
   "cell_type": "markdown",
   "metadata": {},
   "source": [
    "## 원천에서 result_A타입으로"
   ]
  },
  {
   "cell_type": "code",
   "execution_count": 1,
   "metadata": {},
   "outputs": [],
   "source": [
    "import json\n",
    "import os\n",
    "import tqdm"
   ]
  },
  {
   "cell_type": "code",
   "execution_count": 2,
   "metadata": {},
   "outputs": [],
   "source": [
    "PATH_DATA = \"data\"\n",
    "PATH_RESULT_A = \"resultA\"\n",
    "PATH_TEST_KOR = os.path.join(PATH_DATA, \"한국어SNS_시사교육.json\")\n",
    "PATH_TEST_NORMAL = os.path.join(PATH_DATA, \"주제별 일상대화_KAKAO_1000_01.json\")\n",
    "\n",
    "SOURCE_KOR = \"한국어SNS_시사교육\"\n",
    "\n",
    "json_source_kor = None\n",
    "json_resultA_kor = None\n"
   ]
  },
  {
   "cell_type": "code",
   "execution_count": 3,
   "metadata": {},
   "outputs": [],
   "source": [
    "with open(PATH_TEST_KOR, encoding=\"utf-8\") as f:\n",
    "    json_source_kor = json.load(f)\n",
    "    "
   ]
  },
  {
   "cell_type": "code",
   "execution_count": 4,
   "metadata": {},
   "outputs": [
    {
     "name": "stdout",
     "output_type": "stream",
     "text": [
      "11247\n"
     ]
    }
   ],
   "source": [
    "print(len(json_source_kor[\"data\"]))"
   ]
  },
  {
   "cell_type": "code",
   "execution_count": 5,
   "metadata": {},
   "outputs": [
    {
     "name": "stderr",
     "output_type": "stream",
     "text": [
      "100%|██████████| 11247/11247 [00:00<00:00, 50301.11it/s]\n"
     ]
    }
   ],
   "source": [
    "json_resultA = dict()\n",
    "json_resultA_data = list()\n",
    "\n",
    "for json_dialogue in tqdm.tqdm(json_source_kor[\"data\"]):\n",
    "# for json_dialogue in json_source_kor[\"data\"]:\n",
    "    json_resultA_dialogue = dict()  \n",
    "    \n",
    "    ####################\n",
    "    # 2-1 header\n",
    "    json_resultA_header = dict()\n",
    "    \n",
    "    ##########\n",
    "    # 2-1-1 dialogueInfo\n",
    "    json_resultA_dialogInfo = {\n",
    "        \"dialogueID\"            : json_dialogue[\"header\"][\"dialogueInfo\"][\"dialogueID\"],\n",
    "        \"numberOfParticipants\"  : json_dialogue[\"header\"][\"dialogueInfo\"][\"numberOfParticipants\"],\n",
    "        \"numberOfUtterances\"    : json_dialogue[\"header\"][\"dialogueInfo\"][\"numberOfUtterances\"],\n",
    "        \"numberOfTurns\"         : json_dialogue[\"header\"][\"dialogueInfo\"][\"numberOfTurns\"],\n",
    "        \"source\"                : SOURCE_KOR,\n",
    "        \"single_topic\"          : json_dialogue[\"header\"][\"dialogueInfo\"][\"topic\"],\n",
    "        \"multi_topic1\"          : \"##replace##\",\n",
    "        \"multi_topic2\"          : \"##replace##\",\n",
    "        \"multi_topic3\"          : \"##replace##\",\n",
    "        \"multi_topic4\"          : \"##replace##\",\n",
    "        \"multi_topic5\"          : \"##replace##\",\n",
    "    }\n",
    "    \n",
    "    ##########\n",
    "    # 2-1-2 participantsInfo\n",
    "    json_resultA_participantsInfo = list()\n",
    "\n",
    "    for json_each_participant in json_dialogue[\"header\"][\"participantsInfo\"]:\n",
    "        json_resultA_participant = {\n",
    "            \"participantID\"     : json_each_participant[\"participantID\"],\n",
    "            \"gender\"            : json_each_participant[\"gender\"],\n",
    "            \"age\"               : json_each_participant[\"age\"],\n",
    "        }\n",
    "        json_resultA_participantsInfo.append(json_resultA_participant)\n",
    "\n",
    "    ##########\n",
    "    json_resultA_header[\"dialogueInfo\"] = json_resultA_dialogInfo\n",
    "    json_resultA_header[\"participantsInfo\"] = json_resultA_participantsInfo\n",
    "    \n",
    "    json_resultA_dialogue[\"header\"] = json_resultA_header\n",
    "    \n",
    "    ####################\n",
    "    # 2-2 body\n",
    "    json_resultA_body = list()\n",
    "    \n",
    "    for json_each_utterance in json_dialogue[\"body\"]:\n",
    "        json_resultA_utterance = {\n",
    "            \"utteranceID\"       : json_each_utterance[\"utteranceID\"],\n",
    "            \"turnID\"            : json_each_utterance[\"turnID\"],\n",
    "            \"participantID\"     : json_each_utterance[\"participantID\"],\n",
    "            \"date\"              : json_each_utterance[\"date\"],\n",
    "            \"time\"              : json_each_utterance[\"time\"],\n",
    "            \"utterance\"         : json_each_utterance[\"utterance\"],\n",
    "        }\n",
    "        json_resultA_body.append(json_resultA_utterance)\n",
    "\n",
    "    ##########\n",
    "    json_resultA_dialogue[\"body\"] = json_resultA_body\n",
    "\n",
    "    ####################\n",
    "    json_resultA_data.append(json_resultA_dialogue)\n",
    "\n",
    "# print(json_result_data[:2])\n",
    "json_resultA[\"numberOfItems\"] = len(json_resultA_data)\n",
    "json_resultA[\"data\"] = json_resultA_data\n",
    "    "
   ]
  },
  {
   "cell_type": "code",
   "execution_count": 6,
   "metadata": {},
   "outputs": [
    {
     "name": "stdout",
     "output_type": "stream",
     "text": [
      "2022-08-10_21-38-46\n"
     ]
    }
   ],
   "source": [
    "import time\n",
    "\n",
    "print(time.strftime(\"%Y-%m-%d_%H-%M-%S\"))\n",
    "\n",
    "if os.path.isdir(PATH_RESULT_A) == False:\n",
    "    os.mkdir(PATH_RESULT_A)\n",
    "\n",
    "with open(os.path.join(PATH_RESULT_A, f'{time.strftime(\"%Y-%m-%d_%H-%M-%S\")}_한국어SNS_시사교육.json'), \"w\", encoding=\"utf-8\") as f:\n",
    "    json.dump(json_resultA, f, ensure_ascii=False)\n"
   ]
  }
 ],
 "metadata": {
  "kernelspec": {
   "display_name": "Python 3.9.12 ('pydatavenv')",
   "language": "python",
   "name": "python3"
  },
  "language_info": {
   "codemirror_mode": {
    "name": "ipython",
    "version": 3
   },
   "file_extension": ".py",
   "mimetype": "text/x-python",
   "name": "python",
   "nbconvert_exporter": "python",
   "pygments_lexer": "ipython3",
   "version": "3.9.12"
  },
  "orig_nbformat": 4,
  "vscode": {
   "interpreter": {
    "hash": "c405757e3131ec5e9b9c92be93af2f3b58833d6aa22e88097adfd03b2877b376"
   }
  }
 },
 "nbformat": 4,
 "nbformat_minor": 2
}

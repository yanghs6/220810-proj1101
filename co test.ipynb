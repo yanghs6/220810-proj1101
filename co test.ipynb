{
 "cells": [
  {
   "cell_type": "code",
   "execution_count": 1,
   "metadata": {},
   "outputs": [],
   "source": [
    "import json\n",
    "s = \"\"\"{\n",
    "  \"context\": [\n",
    "    {\n",
    "      \"speaker\": \"A\",\n",
    "      \"speechText\": \"A Message\"\n",
    "    },\n",
    "    {\n",
    "      \"speaker\": \"B\",\n",
    "      \"speechText\": \"B Message\"\n",
    "    },\n",
    "        {\n",
    "      \"speaker\": \"C\",\n",
    "      \"speechText\": \"C Message\"\n",
    "    },\n",
    "    {\n",
    "      \"speaker\": \"A\",\n",
    "      \"speechText\": \"A Message\"\n",
    "    }\n",
    "  ],\n",
    "  \"answers\": [\n",
    "    {\n",
    "      \"speaker\": \"\",\n",
    "      \"speechText\": \"\"\n",
    "    }\n",
    "  ]\n",
    "}\"\"\"\n",
    "with open('aa.json', \"w\") as f:\n",
    "    json.dump({\"aa\" : json.dumps(json.loads(s), ensure_ascii=False)}, f)"
   ]
  }
 ],
 "metadata": {
  "kernelspec": {
   "display_name": "Python 3.7.13 ('gcp')",
   "language": "python",
   "name": "python3"
  },
  "language_info": {
   "codemirror_mode": {
    "name": "ipython",
    "version": 3
   },
   "file_extension": ".py",
   "mimetype": "text/x-python",
   "name": "python",
   "nbconvert_exporter": "python",
   "pygments_lexer": "ipython3",
   "version": "3.7.13"
  },
  "orig_nbformat": 4,
  "vscode": {
   "interpreter": {
    "hash": "fc8678f453bb1f82d093bcc33aea292e1d7ba1fb65d4b5f7324aa60a04a5d46e"
   }
  }
 },
 "nbformat": 4,
 "nbformat_minor": 2
}
